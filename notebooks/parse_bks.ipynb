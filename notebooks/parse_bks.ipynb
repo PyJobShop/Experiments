{
 "cells": [
  {
   "cell_type": "code",
   "execution_count": 1,
   "metadata": {},
   "outputs": [],
   "source": [
    "from pathlib import Path\n",
    "from typing import NamedTuple\n",
    "\n",
    "import pandas as pd\n",
    "\n",
    "DATA_DIR = Path(\"../data/bks/\")"
   ]
  },
  {
   "cell_type": "code",
   "execution_count": 2,
   "metadata": {},
   "outputs": [],
   "source": [
    "class Result(NamedTuple):\n",
    "    problem: str\n",
    "    category: str\n",
    "    instance: str\n",
    "    bks: int\n",
    "\n",
    "results: list[Result] = []"
   ]
  },
  {
   "cell_type": "markdown",
   "metadata": {},
   "source": [
    "## Machine scheduling data"
   ]
  },
  {
   "cell_type": "markdown",
   "metadata": {},
   "source": [
    "Here we use Naderi et al. (2023) results data only for CP Optimizer."
   ]
  },
  {
   "cell_type": "code",
   "execution_count": 3,
   "metadata": {},
   "outputs": [],
   "source": [
    "df = pd.read_excel(DATA_DIR / \"Results_22_9_2021.xlsx\")\n",
    "cp = df[df[\"Method\"] == \"CPLEX_CP\"]\n",
    "res = cp[[\"Problem\", \"Benchmark\", \"Instance\", \"BKS\"]].copy()\n",
    "res[\"Instance\"] = res[\"Instance\"].apply(lambda x: f\"{x}.txt\")\n",
    "\n",
    "for _, row in res.iterrows():\n",
    "    result = Result(*row.values.tolist())\n",
    "    results.append(result)"
   ]
  },
  {
   "cell_type": "markdown",
   "metadata": {},
   "source": [
    "## Project scheduling data"
   ]
  },
  {
   "cell_type": "markdown",
   "metadata": {},
   "source": [
    "Here we parse several BKS results files from http://solutionsupdate.ugent.be/."
   ]
  },
  {
   "cell_type": "code",
   "execution_count": 4,
   "metadata": {},
   "outputs": [],
   "source": [
    "data = [\n",
    "    # problem variant, category, filename, number of rows footer to skip\n",
    "    (\"RCPSP\", \"PSPLIB-J30\", \"J30.csv\", 8),\n",
    "    (\"RCPSP\", \"PSPLIB-J60\", \"J60_1.csv\", 57),\n",
    "    (\"RCPSP\", \"PSPLIB-J90\", \"J90_3.csv\", 57),\n",
    "    (\"RCPSP\", \"PSPLIB-J120\", \"J120_0.csv\", 71),\n",
    "    (\"MMRCPSP\", \"MMLIB50\", \"MM50_0.csv\", 43),\n",
    "    (\"RCPSP\", \"RG300\", \"RG300_0.csv\", 43),\n",
    "    (\"MMRCPSP\", \"MMLIB100\", \"MM100_0.csv\", 43),\n",
    "]\n",
    "kwargs = {\"sep\": \";\", \"skiprows\": 4, \"encoding\": \"ISO-8859-1\", \"engine\": \"python\"}"
   ]
  },
  {
   "cell_type": "code",
   "execution_count": 5,
   "metadata": {},
   "outputs": [],
   "source": [
    "for problem, category, fname, skipfooter in data:\n",
    "    df = pd.read_csv(DATA_DIR / fname, skipfooter=skipfooter, **kwargs)\n",
    "    rows = df[[\"Ref1\", \"UB value\"]]\n",
    "    \n",
    "    for idx, row in rows.iterrows():\n",
    "        name, value = row.values\n",
    "        name = name.split(\".\")[0] + \".txt\" # change extension to .txt\n",
    "\n",
    "        if problem == \"RCPSP\" and \"PSPLIB\" in category:\n",
    "            # The BKS instance name is different than the actual instance name.\n",
    "            cat = category.split(\"-\")[1] # J30/J60/J90/J120\n",
    "            name = f\"{cat}_{idx+1}.txt\"\n",
    "        \n",
    "        result = Result(problem, category, name, value)\n",
    "        results.append(result)"
   ]
  },
  {
   "cell_type": "markdown",
   "metadata": {},
   "source": [
    "Here we parse the BKS from MPLIB data."
   ]
  },
  {
   "cell_type": "code",
   "execution_count": 6,
   "metadata": {},
   "outputs": [],
   "source": [
    "loc = DATA_DIR / \"MPLIB1 (Parameters and BKS).xlsx\"\n",
    "df = pd.read_excel(loc, sheet_name=\"TPM\", skiprows=7, skipfooter=1)\n",
    "rows = df[df[\" Instance name\"].str.contains(\"Set3\")]\n",
    "\n",
    "for _, row in rows.iterrows():\n",
    "    name, makespan = row[[\" Instance name\", \"TPM\"]].values\n",
    "    name = name.split(\".\")[0] + \".txt\" # change extension to .txt\n",
    "    result = Result(\"RCMPSP\", \"Set1.3\", name, makespan)\n",
    "    results.append(result)"
   ]
  },
  {
   "cell_type": "markdown",
   "metadata": {},
   "source": [
    "## Output"
   ]
  },
  {
   "cell_type": "code",
   "execution_count": 7,
   "metadata": {},
   "outputs": [
    {
     "data": {
      "text/html": [
       "<div>\n",
       "<style scoped>\n",
       "    .dataframe tbody tr th:only-of-type {\n",
       "        vertical-align: middle;\n",
       "    }\n",
       "\n",
       "    .dataframe tbody tr th {\n",
       "        vertical-align: top;\n",
       "    }\n",
       "\n",
       "    .dataframe thead th {\n",
       "        text-align: right;\n",
       "    }\n",
       "</style>\n",
       "<table border=\"1\" class=\"dataframe\">\n",
       "  <thead>\n",
       "    <tr style=\"text-align: right;\">\n",
       "      <th></th>\n",
       "      <th>problem</th>\n",
       "      <th>category</th>\n",
       "      <th>instance</th>\n",
       "      <th>bks</th>\n",
       "    </tr>\n",
       "  </thead>\n",
       "  <tbody>\n",
       "    <tr>\n",
       "      <th>0</th>\n",
       "      <td>Flowshop</td>\n",
       "      <td>Taillard</td>\n",
       "      <td>1.txt</td>\n",
       "      <td>1278</td>\n",
       "    </tr>\n",
       "    <tr>\n",
       "      <th>1</th>\n",
       "      <td>Flowshop</td>\n",
       "      <td>Taillard</td>\n",
       "      <td>2.txt</td>\n",
       "      <td>1359</td>\n",
       "    </tr>\n",
       "    <tr>\n",
       "      <th>2</th>\n",
       "      <td>Flowshop</td>\n",
       "      <td>Taillard</td>\n",
       "      <td>3.txt</td>\n",
       "      <td>1081</td>\n",
       "    </tr>\n",
       "    <tr>\n",
       "      <th>3</th>\n",
       "      <td>Flowshop</td>\n",
       "      <td>Taillard</td>\n",
       "      <td>4.txt</td>\n",
       "      <td>1293</td>\n",
       "    </tr>\n",
       "    <tr>\n",
       "      <th>4</th>\n",
       "      <td>Flowshop</td>\n",
       "      <td>Taillard</td>\n",
       "      <td>5.txt</td>\n",
       "      <td>1235</td>\n",
       "    </tr>\n",
       "  </tbody>\n",
       "</table>\n",
       "</div>"
      ],
      "text/plain": [
       "    problem  category instance   bks\n",
       "0  Flowshop  Taillard    1.txt  1278\n",
       "1  Flowshop  Taillard    2.txt  1359\n",
       "2  Flowshop  Taillard    3.txt  1081\n",
       "3  Flowshop  Taillard    4.txt  1293\n",
       "4  Flowshop  Taillard    5.txt  1235"
      ]
     },
     "execution_count": 7,
     "metadata": {},
     "output_type": "execute_result"
    }
   ],
   "source": [
    "df = pd.DataFrame(results, columns=[\"problem\", \"category\", \"instance\", \"bks\"])\n",
    "df.head()"
   ]
  },
  {
   "cell_type": "markdown",
   "metadata": {},
   "source": [
    "Map problem names to acronyms."
   ]
  },
  {
   "cell_type": "code",
   "execution_count": 8,
   "metadata": {},
   "outputs": [],
   "source": [
    "name2acronym = {\n",
    "    'Flowshop': 'PFSP',\n",
    "    'Non-Flowshop': 'NPFSP',\n",
    "    'TCTflowshop': 'TCT-PFSP',\n",
    "    'Setupflowshop': 'SDST-PFSP',\n",
    "    'Tardinessflowshop': 'TT-PFSP',\n",
    "    'Distributedflowshop': 'DFSP',\n",
    "    'Hybridflowshop': 'HFSP',\n",
    "    'Jobshop': 'JSP',\n",
    "    'Flexiblejobshop': 'FJSP',\n",
    "    'Openshop': 'OSP',\n",
    "    'Parallelmachine': 'PMP',\n",
    "    'Nowaitflowshop': 'NW-PFSP',\n",
    "    'RCPSP': 'RCPSP',\n",
    "    'MMRCPSP': 'MMRCPSP',\n",
    "    'RCMPSP': 'RCMPSP',\n",
    "}\n",
    "df[\"problem\"] = df[\"problem\"].map(name2acronym)"
   ]
  },
  {
   "cell_type": "code",
   "execution_count": 9,
   "metadata": {},
   "outputs": [],
   "source": [
    "df.to_csv(\"../data/bks.csv\", index=False)"
   ]
  }
 ],
 "metadata": {
  "kernelspec": {
   "display_name": "Python 3 (ipykernel)",
   "language": "python",
   "name": "python3"
  },
  "language_info": {
   "codemirror_mode": {
    "name": "ipython",
    "version": 3
   },
   "file_extension": ".py",
   "mimetype": "text/x-python",
   "name": "python",
   "nbconvert_exporter": "python",
   "pygments_lexer": "ipython3",
   "version": "3.12.7"
  }
 },
 "nbformat": 4,
 "nbformat_minor": 4
}
