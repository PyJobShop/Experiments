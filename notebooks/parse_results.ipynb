{
 "cells": [
  {
   "cell_type": "markdown",
   "metadata": {},
   "source": [
    "This notebook parses the benchmark results."
   ]
  },
  {
   "cell_type": "code",
   "execution_count": 1,
   "metadata": {},
   "outputs": [],
   "source": [
    "from pathlib import Path\n",
    "from typing import NamedTuple\n",
    "from itertools import product\n",
    "\n",
    "import pandas as pd"
   ]
  },
  {
   "cell_type": "markdown",
   "metadata": {},
   "source": [
    "## Constants"
   ]
  },
  {
   "cell_type": "code",
   "execution_count": 2,
   "metadata": {},
   "outputs": [],
   "source": [
    "DATA_DIR = Path(\"../data/results/\")\n",
    "PROBLEMS = [\n",
    "    \"JSP\",\n",
    "    \"FJSP\",\n",
    "    \"NPFSP\",\n",
    "    \"NW-PFSP\",\n",
    "    \"HFSP\",\n",
    "    \"PFSP\",\n",
    "    \"SDST-PFSP\",\n",
    "    \"TCT-PFSP\",\n",
    "    \"TT-PFSP\",\n",
    "    \"RCPSP\",\n",
    "    \"MMRCPSP\",\n",
    "    \"RCMPSP\"\n",
    "]\n",
    "SOLVERS = [\"ortools\", \"cpoptimizer\"]\n",
    "TIME_LIMITS = [120, 900]"
   ]
  },
  {
   "cell_type": "markdown",
   "metadata": {},
   "source": [
    "## Helpers"
   ]
  },
  {
   "cell_type": "code",
   "execution_count": 3,
   "metadata": {},
   "outputs": [],
   "source": [
    "class Result(NamedTuple):\n",
    "    instance: str\n",
    "    status: str\n",
    "    objective: float\n",
    "    time: float\n",
    "\n",
    "def parse_results(loc: Path) -> list[Result]:\n",
    "    with open(loc, \"r\") as fh:\n",
    "        text = fh.read()\n",
    "\n",
    "    text = text[text.index(\"Instance\"):] # start at results header\n",
    "    lines = [line.strip() for line in text.split(\"\\n\")]\n",
    "    lines = lines[2:] # skip header\n",
    "    lines = iter(lines)\n",
    "\n",
    "    results = []\n",
    "    while (line := next(lines)): # continue until next empty line\n",
    "        instance, status, objective, time = line.split()\n",
    "        result = Result(instance, status, float(objective), float(time))\n",
    "        results.append(result)\n",
    "\n",
    "    return results"
   ]
  },
  {
   "cell_type": "markdown",
   "metadata": {},
   "source": [
    "## Parsing"
   ]
  },
  {
   "cell_type": "code",
   "execution_count": 4,
   "metadata": {},
   "outputs": [
    {
     "name": "stdout",
     "output_type": "stream",
     "text": [
      "../data/results/TCT-PFSP/ortools/900/results.txt\n"
     ]
    }
   ],
   "source": [
    "class Experiment(NamedTuple):\n",
    "    problem: str\n",
    "    solver: str\n",
    "    time_limit: int\n",
    "    instance: str\n",
    "    status: str\n",
    "    objective: float\n",
    "    time: float\n",
    "\n",
    "data = [] \n",
    "for problem, solver, time_limit in product(PROBLEMS, SOLVERS, TIME_LIMITS):\n",
    "    try:\n",
    "        loc = DATA_DIR / problem / solver / str(time_limit) / \"results.txt\"\n",
    "        results = parse_results(loc)\n",
    "        \n",
    "        for result in results:\n",
    "            data.append(Experiment(problem, solver, time_limit, *result))\n",
    "    except:\n",
    "        print(loc)"
   ]
  },
  {
   "cell_type": "code",
   "execution_count": 5,
   "metadata": {},
   "outputs": [
    {
     "data": {
      "text/html": [
       "<div>\n",
       "<style scoped>\n",
       "    .dataframe tbody tr th:only-of-type {\n",
       "        vertical-align: middle;\n",
       "    }\n",
       "\n",
       "    .dataframe tbody tr th {\n",
       "        vertical-align: top;\n",
       "    }\n",
       "\n",
       "    .dataframe thead th {\n",
       "        text-align: right;\n",
       "    }\n",
       "</style>\n",
       "<table border=\"1\" class=\"dataframe\">\n",
       "  <thead>\n",
       "    <tr style=\"text-align: right;\">\n",
       "      <th></th>\n",
       "      <th>problem</th>\n",
       "      <th>solver</th>\n",
       "      <th>time_limit</th>\n",
       "      <th>instance</th>\n",
       "      <th>status</th>\n",
       "      <th>objective</th>\n",
       "      <th>time</th>\n",
       "    </tr>\n",
       "  </thead>\n",
       "  <tbody>\n",
       "    <tr>\n",
       "      <th>0</th>\n",
       "      <td>JSP</td>\n",
       "      <td>ortools</td>\n",
       "      <td>120</td>\n",
       "      <td>1.txt</td>\n",
       "      <td>Optimal</td>\n",
       "      <td>1231.0</td>\n",
       "      <td>5.57</td>\n",
       "    </tr>\n",
       "    <tr>\n",
       "      <th>1</th>\n",
       "      <td>JSP</td>\n",
       "      <td>ortools</td>\n",
       "      <td>120</td>\n",
       "      <td>10.txt</td>\n",
       "      <td>Optimal</td>\n",
       "      <td>1241.0</td>\n",
       "      <td>25.23</td>\n",
       "    </tr>\n",
       "    <tr>\n",
       "      <th>2</th>\n",
       "      <td>JSP</td>\n",
       "      <td>ortools</td>\n",
       "      <td>120</td>\n",
       "      <td>100.txt</td>\n",
       "      <td>Feasible</td>\n",
       "      <td>3916.0</td>\n",
       "      <td>120.06</td>\n",
       "    </tr>\n",
       "    <tr>\n",
       "      <th>3</th>\n",
       "      <td>JSP</td>\n",
       "      <td>ortools</td>\n",
       "      <td>120</td>\n",
       "      <td>101.txt</td>\n",
       "      <td>Feasible</td>\n",
       "      <td>4642.0</td>\n",
       "      <td>120.04</td>\n",
       "    </tr>\n",
       "    <tr>\n",
       "      <th>4</th>\n",
       "      <td>JSP</td>\n",
       "      <td>ortools</td>\n",
       "      <td>120</td>\n",
       "      <td>102.txt</td>\n",
       "      <td>Optimal</td>\n",
       "      <td>4725.0</td>\n",
       "      <td>83.54</td>\n",
       "    </tr>\n",
       "  </tbody>\n",
       "</table>\n",
       "</div>"
      ],
      "text/plain": [
       "  problem   solver  time_limit instance    status  objective    time\n",
       "0     JSP  ortools         120    1.txt   Optimal     1231.0    5.57\n",
       "1     JSP  ortools         120   10.txt   Optimal     1241.0   25.23\n",
       "2     JSP  ortools         120  100.txt  Feasible     3916.0  120.06\n",
       "3     JSP  ortools         120  101.txt  Feasible     4642.0  120.04\n",
       "4     JSP  ortools         120  102.txt   Optimal     4725.0   83.54"
      ]
     },
     "execution_count": 5,
     "metadata": {},
     "output_type": "execute_result"
    }
   ],
   "source": [
    "df = pd.DataFrame(data)\n",
    "df.head()"
   ]
  },
  {
   "cell_type": "code",
   "execution_count": 6,
   "metadata": {},
   "outputs": [],
   "source": [
    "df.to_csv(\"../data/results.csv\", index=False)"
   ]
  }
 ],
 "metadata": {
  "kernelspec": {
   "display_name": "Python 3 (ipykernel)",
   "language": "python",
   "name": "python3"
  },
  "language_info": {
   "codemirror_mode": {
    "name": "ipython",
    "version": 3
   },
   "file_extension": ".py",
   "mimetype": "text/x-python",
   "name": "python",
   "nbconvert_exporter": "python",
   "pygments_lexer": "ipython3",
   "version": "3.10.10"
  }
 },
 "nbformat": 4,
 "nbformat_minor": 4
}
